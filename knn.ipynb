{
 "cells": [
  {
   "cell_type": "markdown",
   "metadata": {},
   "source": [
    "# K-Nearest Neighbors Analysis\n",
    "Imports and feature selection"
   ]
  },
  {
   "cell_type": "code",
   "execution_count": null,
   "metadata": {},
   "outputs": [],
   "source": [
    "from data_cleaning import ratings_df, watchlist_df, valid_int\n",
    "import pandas as pd\n",
    "import numpy as np\n",
    "import matplotlib.pyplot as plt\n",
    "from sklearn.model_selection import train_test_split\n",
    "from sklearn.neighbors import KNeighborsRegressor\n",
    "from sklearn.metrics import mean_absolute_error\n",
    "from sklearn.preprocessing import StandardScaler\n",
    "from mlxtend.feature_selection import SequentialFeatureSelector as SFS \n",
    "from mlxtend.plotting import plot_sequential_feature_selection\n",
    "\n",
    "\n",
    "#? Model Training & Feature Selection: Wrapper - Sequential Backwards Selection (SBS)\n",
    "X = ratings_df[[\"IMDb Rating\", \"Runtime (mins)\", \"Year\", \"Num Votes\", \"Day_Rated\"]] \n",
    "y = ratings_df['Your Rating']\n",
    "\n",
    "X_train, X_test, y_train, y_test = train_test_split(X, y, test_size=0.2, random_state=42)\n",
    "\n",
    "scaler = StandardScaler()\n",
    "X_train_scaled = scaler.fit_transform(X_train)\n",
    "X_test_scaled = scaler.transform(X_test)\n",
    "                                            \n",
    "model = KNeighborsRegressor(n_neighbors=25, weights = \"distance\") \n",
    "\n",
    "sbs = SFS(model,\n",
    "          k_features=1, # k=4 for best performance, however setting to 1 so visualsie performance on graph for k 1 through to 5\n",
    "          forward=False,\n",
    "          floating=False,\n",
    "          scoring='r2',\n",
    "          cv=5)\n",
    "\n",
    "sbs.fit(X_train_scaled, y_train)\n",
    "\n",
    "X_train_selected = sbs.transform(X_train_scaled)\n",
    "X_test_selected = sbs.transform(X_test_scaled)\n",
    "\n",
    "#? Model 1 & 2\n",
    "model.fit(X_train_scaled, y_train)\n",
    "# model.fit(X_train_selected, y_train) # --- With Feature Selection\n",
    "\n",
    "#? Feature selection evaluation\n",
    "# print(sffs.subsets_)\n",
    "plot_sequential_feature_selection(sbs.get_metric_dict(), kind='std_dev')  "
   ]
  },
  {
   "cell_type": "markdown",
   "metadata": {},
   "source": [
    "## Model Evaluation"
   ]
  },
  {
   "cell_type": "code",
   "execution_count": null,
   "metadata": {},
   "outputs": [],
   "source": [
    "y_pred = model.predict(X_test_scaled)\n",
    "mae = mean_absolute_error(y_test, y_pred)\n",
    "print(f'Model 1) \\nMean Absolute Error: {round(mae, 3)}')\n",
    "train_score = model.score(X_train_scaled, y_train)\n",
    "print(f'Training R-squared: {round(train_score, 3)}')\n",
    "test_score = model.score(X_test_scaled, y_test)\n",
    "print(f'Test R-squared: {round(test_score, 3)}', '\\n')\n",
    "\n",
    "print('Model 2) \\nMean Absolute Error: 0.895 ') # (K=4) These values were worked out by using model 2 and replacing X test and train scaled with X test and train selected!\n",
    "print('Test R-squared: 1.0')\n",
    "print('Training R-squared: 0.336', '\\n')\n",
    "\n",
    "# print(model.coef_)\n",
    "# print(model.intercept_) "
   ]
  },
  {
   "cell_type": "markdown",
   "metadata": {},
   "source": [
    "## Visualisng Model Performance for different K values"
   ]
  },
  {
   "cell_type": "code",
   "execution_count": null,
   "metadata": {},
   "outputs": [],
   "source": [
    "\n",
    "def best_k(training_data, training_labels, test_data, test_labels):\n",
    "    r2_scores = []\n",
    "\n",
    "    for k in range(1, len(training_data)):\n",
    "        model = KNeighborsRegressor(n_neighbors=k)\n",
    "        model.fit(training_data, training_labels)\n",
    "        r2_score = model.score(test_data, test_labels)\n",
    "        r2_scores.append(r2_score)\n",
    "\n",
    "    \n",
    "    best_k_value = np.argmax(r2_scores) + 1 \n",
    "    best_r2_score = r2_scores[best_k_value - 1]  \n",
    "\n",
    "    return best_k_value, best_r2_score, r2_scores\n",
    "\n",
    "\n",
    "k_list = range(1, len(X_train_scaled))\n",
    "best_k_value, best_r2_score, r2_scores2 = best_k(X_train_scaled, y_train, X_test_scaled, y_test) \n",
    "\n",
    "\n",
    "plt.plot(k_list, r2_scores2, color=\"yellow\")\n",
    "plt.xlabel('k Values')\n",
    "plt.ylabel('R2 Score')\n",
    "plt.title('R2 Score vs k Values')\n",
    "plt.show()\n",
    "\n",
    "print(f\"Best k value: {best_k_value}\")\n",
    "print(f\"Best r2_score: {round(best_r2_score, 4)}\") "
   ]
  },
  {
   "cell_type": "markdown",
   "metadata": {},
   "source": [
    "## Predictions on Watchlist"
   ]
  },
  {
   "cell_type": "code",
   "execution_count": null,
   "metadata": {},
   "outputs": [],
   "source": [
    "#! Making sure the predictions df lines up with ratings_df\n",
    "watchlist_df2 = watchlist_df.drop(\"Title\", axis=1).copy()\n",
    "watchlist_df2 = watchlist_df2[[\"IMDb Rating\", \"Runtime (mins)\", \"Year\", \"Num Votes\", \"Day_Rated\"]]\n",
    "\n",
    "# Predictions\n",
    "watchlist_scaled = scaler.transform(watchlist_df2)\n",
    "predictions = np.round(model.predict(watchlist_scaled), 1) # Rounded to make it a closer resemblence to acutal IMDb Ratings..\n",
    "\n",
    "pred_titles = list(zip(watchlist_df['Title'], predictions))\n",
    "sorted_predictions = sorted(pred_titles, key=lambda x: x[1], reverse=True)\n",
    "\n",
    "for title, rating in sorted_predictions:\n",
    "    print(f'{title}: {rating}')"
   ]
  },
  {
   "cell_type": "markdown",
   "metadata": {},
   "source": [
    "## User Input Predictions"
   ]
  },
  {
   "cell_type": "code",
   "execution_count": null,
   "metadata": {},
   "outputs": [],
   "source": [
    "# Some movies that you can try:\n",
    "# The Godfather, 9.2, 175, 1972, 2000000\n",
    "# Napoleon, 6.5, 158, 2023, 95000\n",
    "# Frozen 2, 6.8, 103, 2019, 191000\n",
    "\n",
    "def user_predict():\n",
    "    movie_title = input(\"Enter the name of the movie/ tv show you would like rated: \")\n",
    "    imdb_rating = valid_int(\"Enter the IMDb rating: \", 0, 10)\n",
    "    runtime = valid_int(\"Enter the runtime in minutes: \", 0, 250)\n",
    "    year = valid_int(\"Enter the year of release: \", 1888, 2024)\n",
    "    num_votes = valid_int(\"Enter the number of votes on Imdb: \", 0, 2134288)\n",
    "\n",
    "    new_data = pd.DataFrame({\n",
    "        'IMDb Rating': [imdb_rating],\n",
    "        'Runtime (mins)': [runtime],\n",
    "        'Year': [year],\n",
    "        'Num Votes': [num_votes],\n",
    "        'Day_Rated': [3487] # defaulted as present day : 26/1/24\n",
    "    })\n",
    "\n",
    "    new_data_scaled = scaler.transform(new_data)\n",
    "    predicted_rating = np.round(model.predict(new_data_scaled),1)\n",
    "    print(f'\\nPredicted rating for {movie_title}: {predicted_rating[0]}')\n",
    "\n",
    "#! user_predict() # --------- UNCOMMENT this line to use the predicter function"
   ]
  },
  {
   "cell_type": "markdown",
   "metadata": {},
   "source": [
    "## Visualisation of Predicted vs Actual Rating"
   ]
  },
  {
   "cell_type": "code",
   "execution_count": null,
   "metadata": {},
   "outputs": [],
   "source": [
    "plt.scatter(y_test, y_pred, alpha=0.4)\n",
    "plt.xlabel(\"Ratings: /10\")\n",
    "plt.ylabel(\"Predicted Ratings: /10\")\n",
    "plt.title(\"Actual Ratings vs Predicted Ratings\")\n",
    "plt.show() "
   ]
  }
 ],
 "metadata": {
  "kernelspec": {
   "display_name": "Python 3",
   "language": "python",
   "name": "python3"
  },
  "language_info": {
   "codemirror_mode": {
    "name": "ipython",
    "version": 3
   },
   "file_extension": ".py",
   "mimetype": "text/x-python",
   "name": "python",
   "nbconvert_exporter": "python",
   "pygments_lexer": "ipython3",
   "version": "3.9.6"
  }
 },
 "nbformat": 4,
 "nbformat_minor": 2
}
