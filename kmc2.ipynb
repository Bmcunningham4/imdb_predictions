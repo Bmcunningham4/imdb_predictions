{
 "cells": [
  {
   "cell_type": "markdown",
   "metadata": {},
   "source": [
    "# K-Means Clustering Analysis\n",
    "Imports and elbow method to determine optimal number of clusters"
   ]
  },
  {
   "cell_type": "code",
   "execution_count": null,
   "metadata": {},
   "outputs": [],
   "source": [
    "from data_cleaning import ratings_df, watchlist_df \n",
    "import pandas as pd\n",
    "import numpy as np\n",
    "import seaborn as sns\n",
    "import matplotlib.pyplot as plt\n",
    "from sklearn.cluster import KMeans\n",
    "from sklearn.preprocessing import StandardScaler\n",
    "from sklearn.decomposition import PCA\n",
    "from mpl_toolkits.mplot3d import Axes3D\n",
    "\n",
    "main_features = ratings_df[[\"Your Rating\", 'IMDb Rating', 'Runtime (mins)', 'Year', 'Num Votes', 'Day_Rated']]\n",
    "genres = ratings_df[[ 'Action', 'Adventure', 'Animation','Biography', 'Comedy', 'Crime', 'Documentary', 'Drama', 'Family','Fantasy', 'Game-Show', 'History', 'Horror', 'Music', 'Musical', 'Mystery', 'Reality-TV', 'Romance', 'Sci-Fi', 'Short', 'Sport', 'Thriller', 'War', 'Western']]\n",
    "\n",
    "#? Elbow method borderline better without scaling..\n",
    "scaler = StandardScaler()\n",
    "scaled_features = scaler.fit_transform(main_features)\n",
    "\n",
    "distortions = []\n",
    "K_range = range(1, 20)\n",
    "for k in K_range:\n",
    "    kmeans = KMeans(n_clusters=k, random_state=42, n_init=10) # Setting n_init=10 to ensure code behaves consistlenty after scikit-learn module gets updated\n",
    "    kmeans.fit(scaled_features)\n",
    "    distortions.append(kmeans.inertia_)\n",
    "\n",
    "plt.plot(K_range, distortions, marker='o')\n",
    "plt.xlabel('Number of Clusters (k)')\n",
    "plt.ylabel('Distortion')\n",
    "plt.title('Elbow Method for Optimal k')\n",
    "plt.show()\n",
    "\n",
    "#? Findings\n",
    "print(\"We can see by inspecting the graph that the rate of decrease slows at k = 11, there 11 is the optimal number of clusters for our model\")"
   ]
  },
  {
   "cell_type": "markdown",
   "metadata": {},
   "source": [
    "## Exploration of Clusters through visualisation "
   ]
  },
  {
   "cell_type": "code",
   "execution_count": null,
   "metadata": {},
   "outputs": [],
   "source": [
    "\n",
    "#? Creating k-means clustering model with optimal k=11\n",
    "model = KMeans(n_clusters=11, random_state=42, n_init=10)  \n",
    "clusters = model.fit_predict(scaled_features)\n",
    "\n",
    "#? Creating a cluster_df to highlight my mean cluster rating and example movies for each\n",
    "features_labels = pd.DataFrame({'Cluster': clusters})\n",
    "cluster_df = pd.DataFrame({'Cluster': features_labels['Cluster'], 'My Rating': ratings_df['Your Rating']})\n",
    "cluster_means = cluster_df.groupby('Cluster')['My Rating'].mean()\n",
    "unique_clusters_sorted = sorted(cluster_df['Cluster'].unique())\n",
    "\n",
    "table_data = []\n",
    "for cluster in unique_clusters_sorted:\n",
    "    if pd.notna(cluster_means.get(cluster)):\n",
    "        cluster_movies = ratings_df.loc[cluster_df['Cluster'] == cluster, 'Title'].tolist()\n",
    "\n",
    "        avg_rating = np.round(cluster_means.loc[cluster], 1)\n",
    "        example_movies = ', '.join(cluster_movies[:3]) \n",
    "        table_data.append([int(cluster), avg_rating, example_movies])\n",
    "\n",
    "table_df = pd.DataFrame(table_data, columns=['Cluster', 'Mean Rating', 'Example Movies'])\n",
    "print(table_df.to_string(index=False), '\\n')\n",
    "\n",
    "print(\"\"\"Certain trends standout from the clusters example movies that would have been hard to determine from just boxplots such as:\n",
    "      Cluster 3, clusters movies with low runtimes (eg. contains TV shows), \n",
    "      Cluster 6, clusters movies with low IMDb rating, \n",
    "      Cluster 7, clusters movies with High IMDb Ratings and high Number of votes\"\"\")\n",
    "\n",
    "#? Boxplot visualisations to identify trends in the clusters\n",
    "main_features_list = [\"Your Rating\", 'IMDb Rating', 'Runtime (mins)', 'Year', 'Num Votes', 'Day_Rated']\n",
    "\n",
    "for feature in main_features_list:\n",
    "    sns.boxplot(x='Cluster', y=feature, data=pd.concat([cluster_df['Cluster'], main_features[feature]], axis=1))\n",
    "    plt.title(f'Distribution of {feature} Across Clusters')\n",
    "    plt.show()"
   ]
  },
  {
   "cell_type": "markdown",
   "metadata": {},
   "source": [
    "## Visualising relationships betwen features: Runtime, Year and Num Votes"
   ]
  },
  {
   "cell_type": "code",
   "execution_count": null,
   "metadata": {},
   "outputs": [],
   "source": [
    "fig = plt.figure(figsize=(12, 8))\n",
    "ax = fig.add_subplot(111, projection='3d')\n",
    "scatter = ax.scatter(ratings_df['Year'],  ratings_df['Num Votes'], ratings_df['Runtime (mins)'], c=ratings_df[\"Your Rating\"], cmap='viridis')\n",
    "ax.set_title('Scatter Plot of Year, Num Votes, and Runtime with Ratings Color-coded')\n",
    "ax.set_xlabel('Year')\n",
    "ax.set_ylabel('Num Votes')\n",
    "ax.set_zlabel('Runtime (mins)')\n",
    "cbar = plt.colorbar(scatter, label='My Rating')\n",
    "plt.show()"
   ]
  }
 ],
 "metadata": {
  "kernelspec": {
   "display_name": "Python 3",
   "language": "python",
   "name": "python3"
  },
  "language_info": {
   "codemirror_mode": {
    "name": "ipython",
    "version": 3
   },
   "file_extension": ".py",
   "mimetype": "text/x-python",
   "name": "python",
   "nbconvert_exporter": "python",
   "pygments_lexer": "ipython3",
   "version": "3.9.6"
  }
 },
 "nbformat": 4,
 "nbformat_minor": 2
}
